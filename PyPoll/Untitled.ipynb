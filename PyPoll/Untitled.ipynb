{
 "cells": [
  {
   "cell_type": "code",
   "execution_count": 1,
   "id": "826a5b6a",
   "metadata": {},
   "outputs": [],
   "source": [
    "import csv\n",
    "import pandas as pd\n",
    "import os"
   ]
  },
  {
   "cell_type": "code",
   "execution_count": 5,
   "id": "26cb23e6",
   "metadata": {},
   "outputs": [],
   "source": [
    "election_data = \"Resources/election_data.csv\""
   ]
  },
  {
   "cell_type": "code",
   "execution_count": 6,
   "id": "e33a1df7",
   "metadata": {},
   "outputs": [],
   "source": [
    "election_data_df = pd.read_csv(election_data)"
   ]
  },
  {
   "cell_type": "code",
   "execution_count": 11,
   "id": "bc70cd17",
   "metadata": {},
   "outputs": [
    {
     "name": "stdout",
     "output_type": "stream",
     "text": [
      "Total Votes: 369711\n"
     ]
    }
   ],
   "source": [
    "total_votes = election_data_df['Ballot ID'].count()\n",
    "print(f\"Total Votes: {total_votes}\")"
   ]
  },
  {
   "cell_type": "code",
   "execution_count": 12,
   "id": "dff3eef3",
   "metadata": {},
   "outputs": [
    {
     "name": "stdout",
     "output_type": "stream",
     "text": [
      "['Charles Casper Stockham' 'Diana DeGette' 'Raymon Anthony Doane']\n"
     ]
    }
   ],
   "source": [
    "candidate_name_list = election_data_df['Candidate'].unique()\n",
    "print(candidate_name_list)"
   ]
  },
  {
   "cell_type": "code",
   "execution_count": 13,
   "id": "428c41dd",
   "metadata": {},
   "outputs": [
    {
     "name": "stdout",
     "output_type": "stream",
     "text": [
      "Diana DeGette              272892\n",
      "Charles Casper Stockham     85213\n",
      "Raymon Anthony Doane        11606\n",
      "Name: Candidate, dtype: int64\n"
     ]
    }
   ],
   "source": [
    "vote_count= election_data_df[\"Candidate\"].value_counts()\n",
    "print(vote_count)"
   ]
  },
  {
   "cell_type": "code",
   "execution_count": 17,
   "id": "dd10d1e8",
   "metadata": {},
   "outputs": [],
   "source": [
    "vote_summary_df= pd.DataFrame({'Candidate_name': ['Diana DeGette','Charles Casper Stockham','Raymon Anthony Doane'],'Vote_count':[272892, 85213, 11606]})"
   ]
  },
  {
   "cell_type": "code",
   "execution_count": 19,
   "id": "d9705fe3",
   "metadata": {},
   "outputs": [
    {
     "data": {
      "text/html": [
       "<div>\n",
       "<style scoped>\n",
       "    .dataframe tbody tr th:only-of-type {\n",
       "        vertical-align: middle;\n",
       "    }\n",
       "\n",
       "    .dataframe tbody tr th {\n",
       "        vertical-align: top;\n",
       "    }\n",
       "\n",
       "    .dataframe thead th {\n",
       "        text-align: right;\n",
       "    }\n",
       "</style>\n",
       "<table border=\"1\" class=\"dataframe\">\n",
       "  <thead>\n",
       "    <tr style=\"text-align: right;\">\n",
       "      <th></th>\n",
       "      <th>Candidate_name</th>\n",
       "      <th>Vote_count</th>\n",
       "      <th>Percentage</th>\n",
       "    </tr>\n",
       "  </thead>\n",
       "  <tbody>\n",
       "    <tr>\n",
       "      <th>0</th>\n",
       "      <td>Diana DeGette</td>\n",
       "      <td>272892</td>\n",
       "      <td>73.812</td>\n",
       "    </tr>\n",
       "    <tr>\n",
       "      <th>1</th>\n",
       "      <td>Charles Casper Stockham</td>\n",
       "      <td>85213</td>\n",
       "      <td>23.049</td>\n",
       "    </tr>\n",
       "    <tr>\n",
       "      <th>2</th>\n",
       "      <td>Raymon Anthony Doane</td>\n",
       "      <td>11606</td>\n",
       "      <td>3.139</td>\n",
       "    </tr>\n",
       "  </tbody>\n",
       "</table>\n",
       "</div>"
      ],
      "text/plain": [
       "            Candidate_name  Vote_count  Percentage\n",
       "0            Diana DeGette      272892      73.812\n",
       "1  Charles Casper Stockham       85213      23.049\n",
       "2     Raymon Anthony Doane       11606       3.139"
      ]
     },
     "execution_count": 19,
     "metadata": {},
     "output_type": "execute_result"
    }
   ],
   "source": [
    "vote_summary_df[\"Percentage\"] = round(vote_summary_df[\"Vote_count\"]/total_votes*100,3)\n",
    "vote_summary_df\n"
   ]
  },
  {
   "cell_type": "code",
   "execution_count": 30,
   "id": "4ef5c9e5",
   "metadata": {},
   "outputs": [
    {
     "name": "stdout",
     "output_type": "stream",
     "text": [
      "Diana DeGette\n"
     ]
    }
   ],
   "source": [
    "vote_summary_df[\"Vote_count\"].idxmax()\n",
    "winner = vote_summary_df[\"Candidate_name\"][0]\n",
    "print(winner)"
   ]
  },
  {
   "cell_type": "code",
   "execution_count": 31,
   "id": "a4ad109f",
   "metadata": {},
   "outputs": [
    {
     "name": "stdout",
     "output_type": "stream",
     "text": [
      "Election Results\n",
      "Total Votes:369711\n",
      "Diana DeGette : 272892 (73.812 %)\n",
      "Charles Casper Stockham : 85213 (23.049 %)\n",
      "Raymon Anthony Doane : 11606 (3.139 %)\n",
      "winner : Diana DeGette\n"
     ]
    }
   ],
   "source": [
    "print(\"Election Results\")\n",
    "print(f\"Total Votes:{total_votes}\")\n",
    "print(f\"{vote_summary_df['Candidate_name'][0]} : {vote_summary_df['Vote_count'][0]} ({vote_summary_df['Percentage'][0]} %)\" \n",
    "     )\n",
    "print(f\"{vote_summary_df['Candidate_name'][1]} : {vote_summary_df['Vote_count'][1]} ({vote_summary_df['Percentage'][1]} %)\" \n",
    "     )\n",
    "print(f\"{vote_summary_df['Candidate_name'][2]} : {vote_summary_df['Vote_count'][2]} ({vote_summary_df['Percentage'][2]} %)\" \n",
    "     )\n",
    "print(f\"winner : {winner}\")"
   ]
  },
  {
   "cell_type": "code",
   "execution_count": 35,
   "id": "df037dbc",
   "metadata": {},
   "outputs": [],
   "source": [
    "output_path = os.path.join(\"analysis\", \"Election_Summary.txt\")\n",
    "\n",
    "with open(output_path, \"w\") as resultwriter:\n",
    "    csvwriter= csv.writer(resultwriter, delimiter= \",\")\n",
    "    csvwriter.writerows([[\"Election results\"],\n",
    "                        [f\"{vote_summary_df['Candidate_name'][0]} : {vote_summary_df['Vote_count'][0]} ({vote_summary_df['Percentage'][0]} %)\"],\n",
    "                        [f\"{vote_summary_df['Candidate_name'][1]} : {vote_summary_df['Vote_count'][1]} ({vote_summary_df['Percentage'][1]} %)\"],\n",
    "                        [f\"{vote_summary_df['Candidate_name'][2]} : {vote_summary_df['Vote_count'][2]} ({vote_summary_df['Percentage'][2]} %)\"],\n",
    "                        [f\"winner : {winner}\"]])"
   ]
  }
 ],
 "metadata": {
  "kernelspec": {
   "display_name": "Python 3 (ipykernel)",
   "language": "python",
   "name": "python3"
  },
  "language_info": {
   "codemirror_mode": {
    "name": "ipython",
    "version": 3
   },
   "file_extension": ".py",
   "mimetype": "text/x-python",
   "name": "python",
   "nbconvert_exporter": "python",
   "pygments_lexer": "ipython3",
   "version": "3.9.13"
  }
 },
 "nbformat": 4,
 "nbformat_minor": 5
}
